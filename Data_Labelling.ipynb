{
  "nbformat": 4,
  "nbformat_minor": 0,
  "metadata": {
    "colab": {
      "name": "Data_Labelling.ipynb",
      "provenance": [],
      "collapsed_sections": [],
      "toc_visible": true,
      "include_colab_link": true
    },
    "kernelspec": {
      "name": "python3",
      "display_name": "Python 3"
    },
    "accelerator": "GPU"
  },
  "cells": [
    {
      "cell_type": "markdown",
      "metadata": {
        "id": "view-in-github",
        "colab_type": "text"
      },
      "source": [
        "<a href=\"https://colab.research.google.com/github/MahamShafiq/Number_Plate_Recognition/blob/master/Data_Labelling.ipynb\" target=\"_parent\"><img src=\"https://colab.research.google.com/assets/colab-badge.svg\" alt=\"Open In Colab\"/></a>"
      ]
    },
    {
      "cell_type": "markdown",
      "metadata": {
        "id": "tR_VmXHj1g61",
        "colab_type": "text"
      },
      "source": [
        "#Code to Rename the images in the Sequential Order"
      ]
    },
    {
      "cell_type": "code",
      "metadata": {
        "id": "v9PkKGcOxjH7",
        "colab_type": "code",
        "outputId": "d37de05f-85e2-4f0f-fb95-a17cd8576de9",
        "colab": {
          "base_uri": "https://localhost:8080/",
          "height": 219
        }
      },
      "source": [
        "pip install scipy==1.1.0\n"
      ],
      "execution_count": 0,
      "outputs": [
        {
          "output_type": "stream",
          "text": [
            "Collecting scipy==1.1.0\n",
            "\u001b[?25l  Downloading https://files.pythonhosted.org/packages/a8/0b/f163da98d3a01b3e0ef1cab8dd2123c34aee2bafbb1c5bffa354cc8a1730/scipy-1.1.0-cp36-cp36m-manylinux1_x86_64.whl (31.2MB)\n",
            "\u001b[K     |████████████████████████████████| 31.2MB 36.8MB/s \n",
            "\u001b[?25hRequirement already satisfied: numpy>=1.8.2 in /usr/local/lib/python3.6/dist-packages (from scipy==1.1.0) (1.16.5)\n",
            "\u001b[31mERROR: albumentations 0.1.12 has requirement imgaug<0.2.7,>=0.2.5, but you'll have imgaug 0.2.9 which is incompatible.\u001b[0m\n",
            "Installing collected packages: scipy\n",
            "  Found existing installation: scipy 1.3.1\n",
            "    Uninstalling scipy-1.3.1:\n",
            "      Successfully uninstalled scipy-1.3.1\n",
            "Successfully installed scipy-1.1.0\n"
          ],
          "name": "stdout"
        }
      ]
    },
    {
      "cell_type": "code",
      "metadata": {
        "id": "nkHBxLmxzEpu",
        "colab_type": "code",
        "outputId": "8498e9e9-3a3f-4874-9f56-e336088dffa9",
        "colab": {
          "base_uri": "https://localhost:8080/",
          "height": 122
        }
      },
      "source": [
        "from google.colab import drive\n",
        "drive.mount('/content/drive')"
      ],
      "execution_count": 0,
      "outputs": [
        {
          "output_type": "stream",
          "text": [
            "Go to this URL in a browser: https://accounts.google.com/o/oauth2/auth?client_id=947318989803-6bn6qk8qdgf4n4g3pfee6491hc0brc4i.apps.googleusercontent.com&redirect_uri=urn%3Aietf%3Awg%3Aoauth%3A2.0%3Aoob&scope=email%20https%3A%2F%2Fwww.googleapis.com%2Fauth%2Fdocs.test%20https%3A%2F%2Fwww.googleapis.com%2Fauth%2Fdrive%20https%3A%2F%2Fwww.googleapis.com%2Fauth%2Fdrive.photos.readonly%20https%3A%2F%2Fwww.googleapis.com%2Fauth%2Fpeopleapi.readonly&response_type=code\n",
            "\n",
            "Enter your authorization code:\n",
            "··········\n",
            "Mounted at /content/drive\n"
          ],
          "name": "stdout"
        }
      ]
    },
    {
      "cell_type": "code",
      "metadata": {
        "id": "GtbEMohZ01mH",
        "colab_type": "code",
        "colab": {}
      },
      "source": [
        "import os \n",
        "import random\n",
        "\n",
        " \n",
        "# Function to rename multiple files \n",
        "def main(): \n",
        "  i = 153 # tHE sERIAL NO FROM WHICH YOU WANT TO CREATE FILE\n",
        "  for filename in os.listdir(\"/content/drive/My Drive/Internships/NCAI internship/dataset/test2\"):\n",
        "        #i=random.randint(500,999) UNCOMMENT FOR SHUFFLING\n",
        "        #x = 'test'\n",
        "        \n",
        "        dst = str(i) + \".jpg\"\n",
        "        src ='/content/drive/My Drive/Internships/NCAI internship/dataset/test2/'+ filename \n",
        "        dst ='/content/drive/My Drive/Internships/NCAI internship/dataset/test2/'+ dst \n",
        "          \n",
        "        # rename() function will \n",
        "        # rename all the files \n",
        "        os.rename(src, dst) \n",
        "        i += 1 #COMMENT WHEN SHUFFLING\n",
        "  \n",
        "# Driver Code \n",
        "if __name__ == '__main__': \n",
        "      \n",
        "    # Calling main() function \n",
        "    main()"
      ],
      "execution_count": 0,
      "outputs": []
    },
    {
      "cell_type": "code",
      "metadata": {
        "id": "KYp-2E7l8sF_",
        "colab_type": "code",
        "outputId": "c2a349d4-af92-44d9-f9e9-c0a75e9495a2",
        "colab": {
          "base_uri": "https://localhost:8080/",
          "height": 275
        }
      },
      "source": [
        "pip install baidu-aip"
      ],
      "execution_count": 0,
      "outputs": [
        {
          "output_type": "stream",
          "text": [
            "Collecting baidu-aip\n",
            "  Downloading https://files.pythonhosted.org/packages/85/ba/5e94b935b7af791573f1b5bc1b4084311430df8804401da34f27e3708194/baidu-aip-2.2.17.0.tar.gz\n",
            "Requirement already satisfied: requests in /usr/local/lib/python3.6/dist-packages (from baidu-aip) (2.21.0)\n",
            "Requirement already satisfied: idna<2.9,>=2.5 in /usr/local/lib/python3.6/dist-packages (from requests->baidu-aip) (2.8)\n",
            "Requirement already satisfied: urllib3<1.25,>=1.21.1 in /usr/local/lib/python3.6/dist-packages (from requests->baidu-aip) (1.24.3)\n",
            "Requirement already satisfied: chardet<3.1.0,>=3.0.2 in /usr/local/lib/python3.6/dist-packages (from requests->baidu-aip) (3.0.4)\n",
            "Requirement already satisfied: certifi>=2017.4.17 in /usr/local/lib/python3.6/dist-packages (from requests->baidu-aip) (2019.6.16)\n",
            "Building wheels for collected packages: baidu-aip\n",
            "  Building wheel for baidu-aip (setup.py) ... \u001b[?25l\u001b[?25hdone\n",
            "  Created wheel for baidu-aip: filename=baidu_aip-2.2.17.0-cp36-none-any.whl size=15548 sha256=2ac6000f86620544f34ef116a262dfa0e167792d463ac4eb900a41c11654a654\n",
            "  Stored in directory: /root/.cache/pip/wheels/53/9d/10/1fec4a23e86dc656bcdfc2eed5f3a43fe61b2f2079f617e26c\n",
            "Successfully built baidu-aip\n",
            "Installing collected packages: baidu-aip\n",
            "Successfully installed baidu-aip-2.2.17.0\n"
          ],
          "name": "stdout"
        }
      ]
    },
    {
      "cell_type": "markdown",
      "metadata": {
        "id": "HvzCyzTR1z4K",
        "colab_type": "text"
      },
      "source": [
        "\n",
        "This code to Extract the text in the name plates and save them with thir names in csv "
      ]
    },
    {
      "cell_type": "code",
      "metadata": {
        "id": "7TB25jN19duF",
        "colab_type": "code",
        "outputId": "168442d1-9dfd-4a75-ecd8-efa4923553c5",
        "colab": {
          "base_uri": "https://localhost:8080/",
          "height": 292
        }
      },
      "source": [
        "\n",
        "#ps : api gives erroneous results which were fixed manually\n",
        "pip install baidu-aip"
      ],
      "execution_count": 0,
      "outputs": [
        {
          "output_type": "stream",
          "text": [
            "Collecting baidu-aip\n",
            "  Downloading https://files.pythonhosted.org/packages/85/ba/5e94b935b7af791573f1b5bc1b4084311430df8804401da34f27e3708194/baidu-aip-2.2.17.0.tar.gz\n",
            "Requirement already satisfied: requests in /usr/local/lib/python3.6/dist-packages (from baidu-aip) (2.21.0)\n",
            "Requirement already satisfied: certifi>=2017.4.17 in /usr/local/lib/python3.6/dist-packages (from requests->baidu-aip) (2019.6.16)\n",
            "Requirement already satisfied: idna<2.9,>=2.5 in /usr/local/lib/python3.6/dist-packages (from requests->baidu-aip) (2.8)\n",
            "Requirement already satisfied: urllib3<1.25,>=1.21.1 in /usr/local/lib/python3.6/dist-packages (from requests->baidu-aip) (1.24.3)\n",
            "Requirement already satisfied: chardet<3.1.0,>=3.0.2 in /usr/local/lib/python3.6/dist-packages (from requests->baidu-aip) (3.0.4)\n",
            "Building wheels for collected packages: baidu-aip\n",
            "  Building wheel for baidu-aip (setup.py) ... \u001b[?25l\u001b[?25hdone\n",
            "  Created wheel for baidu-aip: filename=baidu_aip-2.2.17.0-cp36-none-any.whl size=15548 sha256=c8c3fff8e722298089a7438b61b9f8a049971b8441910ce3ea35b3a29a9a0af2\n",
            "  Stored in directory: /root/.cache/pip/wheels/53/9d/10/1fec4a23e86dc656bcdfc2eed5f3a43fe61b2f2079f617e26c\n",
            "Successfully built baidu-aip\n",
            "Installing collected packages: baidu-aip\n",
            "Successfully installed baidu-aip-2.2.17.0\n"
          ],
          "name": "stdout"
        }
      ]
    },
    {
      "cell_type": "code",
      "metadata": {
        "id": "UAWxfdheLIop",
        "colab_type": "code",
        "colab": {}
      },
      "source": [
        "from aip import AipOcr\n",
        "import cv2   #Computer vision library\n",
        "import csv\n",
        "def get_file_content(filePath):  \n",
        "    with open(filePath, 'rb') as fp:  \n",
        "        return fp.read()  \n",
        "\n",
        "def ocr_pic(file):\n",
        "    \"\"\" Your APPID AK SK, obtained at Baidu Cloud, https://cloud.baidu.com/ \"\"\"\n",
        "    APP_ID = '10665005'  \n",
        "    API_KEY = '2ly8CzT3FhvU6nIlbemyxR58'  \n",
        "    SECRET_KEY = 'Aetgo4i2O35HNH1M8Kn5ROFv6BdgRrPC' \n",
        "    client = AipOcr(APP_ID, API_KEY, SECRET_KEY)\n",
        "    # Define parameter variables\n",
        "    options = {'detect_direction': 'true','language_type': 'ENG',}  \n",
        "\n",
        "    # Call the universal character recognition interface\n",
        "    result = client.basicGeneral(get_file_content(file), options)['words_result']\n",
        "\n",
        "    if 'error_code' in result:\n",
        "        print ( ' Error code: ' , result[ ' error_code ' ], ' \\ nError reason: ' , result[ ' error_msg ' ])\n",
        "        exit()\n",
        "        \n",
        "    words = ''\n",
        "    for each in result:\n",
        "        words += each['words']\n",
        "    return words\n",
        "i=153\n",
        "if __name__ == \"__main__\":\n",
        "    for filename in os.listdir(\"/content/drive/My Drive/Internships/NCAI internship/dataset/test2\"):\n",
        "      src ='/content/drive/My Drive/Internships/NCAI internship/dataset/test2/'+ filename\n",
        "      img = cv2.imread(src)\n",
        "      \n",
        "      name = 'test'+ str(i) +\".jpg\"\n",
        "      i=i+1\n",
        "      cv2.imwrite( name, img)\n",
        "      plate_number = ocr_pic(name)\n",
        "      with open('val2.csv', mode='a') as file:\n",
        "        entry = csv.writer(file, delimiter=',', quotechar='\"', quoting=csv.QUOTE_MINIMAL)\n",
        "        entry.writerow([name,plate_number])"
      ],
      "execution_count": 0,
      "outputs": []
    },
    {
      "cell_type": "code",
      "metadata": {
        "id": "l-oKq_O3VTOo",
        "colab_type": "code",
        "colab": {}
      },
      "source": [
        ""
      ],
      "execution_count": 0,
      "outputs": []
    },
    {
      "cell_type": "code",
      "metadata": {
        "id": "bddxL89sOOVs",
        "colab_type": "code",
        "outputId": "27712399-87cf-4769-c76f-7f339499536a",
        "colab": {
          "base_uri": "https://localhost:8080/",
          "height": 173
        }
      },
      "source": [
        "pip install keras\n"
      ],
      "execution_count": 0,
      "outputs": [
        {
          "output_type": "stream",
          "text": [
            "Requirement already satisfied: keras in /usr/local/lib/python3.6/dist-packages (2.2.5)\n",
            "Requirement already satisfied: pyyaml in /usr/local/lib/python3.6/dist-packages (from keras) (3.13)\n",
            "Requirement already satisfied: scipy>=0.14 in /usr/local/lib/python3.6/dist-packages (from keras) (1.1.0)\n",
            "Requirement already satisfied: six>=1.9.0 in /usr/local/lib/python3.6/dist-packages (from keras) (1.12.0)\n",
            "Requirement already satisfied: keras-preprocessing>=1.1.0 in /usr/local/lib/python3.6/dist-packages (from keras) (1.1.0)\n",
            "Requirement already satisfied: h5py in /usr/local/lib/python3.6/dist-packages (from keras) (2.8.0)\n",
            "Requirement already satisfied: keras-applications>=1.0.8 in /usr/local/lib/python3.6/dist-packages (from keras) (1.0.8)\n",
            "Requirement already satisfied: numpy>=1.9.1 in /usr/local/lib/python3.6/dist-packages (from keras) (1.16.5)\n"
          ],
          "name": "stdout"
        }
      ]
    },
    {
      "cell_type": "code",
      "metadata": {
        "id": "SXl4Fmai3ec2",
        "colab_type": "code",
        "colab": {}
      },
      "source": [
        ""
      ],
      "execution_count": 0,
      "outputs": []
    },
    {
      "cell_type": "code",
      "metadata": {
        "id": "TRC_aQI6eE9_",
        "colab_type": "code",
        "colab": {}
      },
      "source": [
        "import os \n",
        "import random\n",
        "\n",
        " \n",
        "# Function to rename multiple files \n",
        "def main(): \n",
        "  i = 1 # tHE sERIAL NO FROM WHICH YOU WANT TO CREATE FILE\n",
        "  for filename in os.listdir(\"/content/drive/My Drive/Internships/NCAI internship/dataset/car_out_3\"):\n",
        "        #i=random.randint(500,999) UNCOMMENT FOR SHUFFLING\n",
        "        #x = 'test'\n",
        "        \n",
        "        dst = str(i) + \".jpg\"\n",
        "        src ='/content/drive/My Drive/Internships/NCAI internship/dataset/car_out_3/'+ filename \n",
        "        if i<=366:\n",
        "            dst ='/content/drive/My Drive/Internships/NCAI internship/dataset/train2/'+ dst \n",
        "        elif i<=612:\n",
        "            dst ='/content/drive/My Drive/Internships/NCAI internship/dataset/val2/'+ dst \n",
        "        else:\n",
        "            dst ='/content/drive/My Drive/Internships/NCAI internship/dataset/test2/'+ dst \n",
        "          \n",
        "        # rename() function will \n",
        "        # rename all the files \n",
        "        os.rename(src, dst) \n",
        "        i += 1 #COMMENT WHEN SHUFFLING\n",
        "  \n",
        "# Driver Code \n",
        "if __name__ == '__main__': \n",
        "      \n",
        "    # Calling main() function \n",
        "    main()"
      ],
      "execution_count": 0,
      "outputs": []
    },
    {
      "cell_type": "code",
      "metadata": {
        "id": "yuaUTI87d0pK",
        "colab_type": "code",
        "colab": {}
      },
      "source": [
        ""
      ],
      "execution_count": 0,
      "outputs": []
    }
  ]
}